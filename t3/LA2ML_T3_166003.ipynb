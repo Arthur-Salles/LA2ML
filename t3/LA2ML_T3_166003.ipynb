{
 "cells": [
  {
   "cell_type": "code",
   "execution_count": 1,
   "metadata": {},
   "outputs": [],
   "source": [
    "import numpy as np\n",
    "import torch \n",
    "import torch.nn as nn\n",
    "import torchvision\n",
    "from torchvision.transforms import ToTensor, Normalize\n",
    "from sklearn.model_selection import train_test_split\n",
    "from abc import ABC, abstractmethod\n",
    "import matplotlib.pyplot as plt\n",
    "from sklearn.metrics import accuracy_score\n",
    "import tqdm.notebook as tqdm\n",
    "\n",
    "plt.style.use('ggplot')"
   ]
  },
  {
   "cell_type": "markdown",
   "metadata": {},
   "source": [
    "# Part II : Multinominal Softmax Classification"
   ]
  },
  {
   "cell_type": "code",
   "execution_count": 2,
   "metadata": {},
   "outputs": [
    {
     "name": "stdout",
     "output_type": "stream",
     "text": [
      "(42000, 784) (18000, 784) (42000, 10) (18000,)\n"
     ]
    }
   ],
   "source": [
    "raw_mnist = torchvision.datasets.MNIST(\"./\", download=True)\n",
    "\n",
    "x_train, x_test = train_test_split(raw_mnist.data, test_size=0.3, random_state=166003)\n",
    "y_train, y_test = train_test_split(raw_mnist.targets, test_size=0.3, random_state=166003)\n",
    "\n",
    "x_train = x_train.reshape(-1, 28 * 28).numpy()\n",
    "x_test = x_test.reshape(-1, 28 * 28).numpy()\n",
    "\n",
    "# important so softmax wont overflow \n",
    "x_train = (x_train - np.min(x_train)) / (np.max(x_train) - np.min(x_train))\n",
    "x_test = (x_test - np.min(x_test)) / (np.max(x_test) - np.min(x_test))\n",
    "\n",
    "\n",
    "y_test = y_test.numpy()\n",
    "y_train = y_train.numpy()\n",
    "\n",
    "# one hotting labels\n",
    "# y_test = np.eye(10)[y_test].astype(np.int32)\n",
    "y_train = np.eye(10)[y_train].astype(np.int32)\n",
    "\n",
    "print(x_train.shape, x_test.shape, y_train.shape, y_test.shape)\n"
   ]
  },
  {
   "cell_type": "markdown",
   "metadata": {},
   "source": [
    "## Gradients \n"
   ]
  },
  {
   "cell_type": "markdown",
   "metadata": {},
   "source": [
    "\n",
    "\n",
    "Feed forward:\n",
    "$$ z = \\hat{y}= \\textbf{xw} + \\textbf{b} $$\n",
    "\n",
    "Softmax Activation Function:\n",
    "\n",
    "$$\\sigma (z) = \\frac{\\text{exp}(z_i)}{\\sum_{j=0}^{K}\\text{exp}(z_j)}$$\n",
    "$$\\sigma (w) = \\frac{\\text{exp}(xw_i+b_i)}{\\sum_{j=0}^{K}\\text{exp}(xw_j+b_j)}$$\n",
    "\n",
    "Loss Function - CrossEntropy for Binary Classification: \n",
    "\n",
    "$$ L(y, \\hat{y}) = −log \\hspace{2px} p(y|x) = -[y \\hspace{2px}log \\hspace{2px} \\hat{y} \\hspace{2px}+\\hspace{2px} (1-y)\\hspace{2px}log \\hspace{2px}(1-\\hat{y})]$$\n",
    "\n",
    "Considering the labels are represented in one-hot fashion, in which each element of $\\hat{y}$ represents the probability $ p(\\hat{y_k}= 1 |x)$, therefore the multiclass version will be the sum of the logs of the $K$ classes \n",
    "\n",
    "$$ L(y, \\hat{y}) = -\\sum_{i=0}^{K} y_i \\hspace{2px}log\\hspace{2px}\\hat{y_i}  $$ \n",
    "\n",
    "Note that, given the one hot encoding all terms that are not the desired class k, will be equal to zero, simplifying the loss to: \n",
    "\n",
    "$$ L(y, \\hat{y}) = -\\hspace{2px}log\\hspace{2px}\\hat{y_k}  $$\n",
    "\n",
    "$$ L(w) = -log\\hspace{2px} \\left(  \\frac{\\text{exp}(\\textbf{xw}_i + \\textbf{b}_i )}{\\sum_{j=0}^{K}\\text{exp}(\\textbf{xw}_j + \\textbf{b}_j )}\\right) $$\n",
    "\n",
    "\n",
    "$$L(z) = -log\\hspace{2px} \\left(  \\frac{e^{z_i}} {\\sum_{j=0}^{K}e^{z_j}} \\right) $$\n",
    "\n",
    "By applying the log division rule, this will be helpfull to avoid using the derivative quotient rule :\n",
    "\n",
    "$$L(z) = -\\left( z_i -log\\sum_{j=0}^{K}e^{z_j}  \\right)$$\n",
    "\n",
    "Now computing the derivative in respect to the class $i$ :\n",
    "\n",
    "$$ \\frac{\\partial L}{\\partial z_i} = -\\frac{\\partial }{\\partial z_i} \\left( z_i -log\\sum_{j=0}^{K}e^{z_j}  \\right) $$\n",
    "\n",
    "$$\\frac{\\partial L}{\\partial z_i} = -\\frac{\\partial }{\\partial z_i} z_i + \\frac{\\partial }{\\partial z_i}log\\sum_{j=0}^{K}e^{z_j}   $$\n",
    "\n",
    "$$\\frac{\\partial L}{\\partial z_i} = -1 + log\\sum_{j=0}^{K}\\frac{\\partial }{\\partial z_i}e^{z_j} $$\n",
    "\n",
    "Note that the derivative for all the possibilities except for the desired class, its zero, therefore:\n",
    "\n",
    "$$ \\frac{\\partial }{\\partial z_i}e^{z_j} = \\left\\{ \\begin{array}{cl}\n",
    "0 & : \\ z_j \\neq z_i \\\\\n",
    "e^{z_i} & : \\ z_j  = z_i\n",
    "\\end{array} \\right. $$\n",
    "\n",
    "$$ \\frac{\\partial }{\\partial z_i}log\\left( \\sum_{j=0}^{K}e^{z_j} \\right) = \\frac{1}{\\sum_{j=0}^{K}e^{z_j} } e^{z_i} \n",
    " $$\n",
    "\n",
    "$$\\frac{\\partial L}{\\partial z_i} = 1 - \\frac{1}{\\sum_{j=0}^{K}e^{z_j} } e^{z_i} = 1 - z_i$$\n",
    "\n",
    "\n",
    "Now applying the chain rule: \n",
    "\n",
    "$$  \\frac{\\partial L}{\\partial w_i} = \\frac{\\partial L}{\\partial z_i} \\frac{\\partial z_i}{\\partial w_i}     $$\n",
    "\n",
    "$$  \\frac{\\partial L}{\\partial b_i} = \\frac{\\partial L}{\\partial z_i} \\frac{\\partial z_i}{\\partial b_i}     $$\n",
    "\n",
    "$$ \\frac{\\partial L}{\\partial w_i} =  -\\left( 1 -  z_i \\right) \\textbf{x}  =  -\\left( 1 - \\frac{\\text{exp}(\\textbf{xw}_i + \\textbf{b}_i )}{\\sum_{j=0}^{K}\\text{exp}(\\textbf{xw}_j + \\textbf{b}_j )}\\right)\\textbf{x}$$ \n",
    "\n",
    "$$ \\frac{\\partial L}{\\partial b_i} =  \\left( 1 -  z_i \\right)  =  \\left( 1 - \\frac{\\text{exp}(\\textbf{xw}_i + \\textbf{b}_i )}{\\sum_{j=0}^{K}\\text{exp}(\\textbf{xw}_j + \\textbf{b}_j )}\\right)$$ "
   ]
  },
  {
   "cell_type": "markdown",
   "metadata": {},
   "source": [
    "## Handmade Softmax Regression"
   ]
  },
  {
   "cell_type": "code",
   "execution_count": 3,
   "metadata": {},
   "outputs": [],
   "source": [
    "class SoftmaxRegression():\n",
    "    def __init__(self, p_size, n_classes, lr=0.001):\n",
    "        # self.w = np.random.rand(p_size, n_classes) * 0.01\n",
    "        self.w = np.random.rand(n_classes, p_size) * 0.01\n",
    "        self.b = np.random.rand(n_classes)\n",
    "        self.v_w = np.zeros_like(self.w)\n",
    "        self.v_b = np.zeros_like(self.b)\n",
    "\n",
    "    def get_parameters(self):\n",
    "        return self.w.reshape(-1, 28*28), self.b\n",
    "\n",
    "    def forward(self, X):\n",
    "        return ( X @ self.w.T ) + self.b \n",
    "\n",
    "    def compute_probs(self, logits):\n",
    "        # softmax the network outputs\n",
    "        exp_logits = np.exp(logits - np.max(logits, axis=1, keepdims=True))  # keep stability \n",
    "        return exp_logits / np.sum(exp_logits, axis=1, keepdims=True)\n",
    "\n",
    "    def crossEntropy(self, y_hat, y):\n",
    "        b = - y * np.log(y_hat)\n",
    "        return b.sum(axis=-1) / len(y)\n",
    "\n",
    "    def loss_derivative(self, x, y_hat, y):\n",
    "        return -(y - y_hat).T @ x / len(x), -np.sum(y - y_hat, axis=0) / len(x)\n",
    "\n",
    "    \n",
    "    def gradient_descent(self, w_gradient, b_gradient, lr):\n",
    "        \n",
    "        self.w -= self.lr * w_gradient\n",
    "        self.b -= self.lr * b_gradient\n",
    "\n",
    "    def stochastic_gradient_descent(self, X, y, lr):\n",
    "        \n",
    "        random_indexes = np.arange(len(X))\n",
    "        np.random.shuffle(random_indexes)\n",
    "\n",
    "        X = X[random_indexes]\n",
    "        y = y[random_indexes]\n",
    "        \n",
    "        logits = self.forward(X)\n",
    "        y_hat = self.compute_probs(logits)\n",
    "        ce_loss = self.crossEntropy(y_hat, y)\n",
    "        w_gradient, b_gradient = self.loss_derivative(X, y_hat) \n",
    "\n",
    "        self.w -= self.lr * w_gradient.T\n",
    "        self.b -= self.lr * b_gradient.T\n",
    "\n",
    "        return ce_loss\n",
    "\n",
    "    def momentum_sgd(self, X, y, lr, beta=0.9):\n",
    "        \n",
    "        random_indexes = np.arange(len(X))\n",
    "        np.random.shuffle(random_indexes)\n",
    "\n",
    "        X = X[random_indexes]\n",
    "        y = y[random_indexes]\n",
    "        \n",
    "        logits = self.forward(X)\n",
    "        y_hat = self.compute_probs(logits)\n",
    "        ce_loss = self.crossEntropy(y_hat, y)\n",
    "        w_gradient, b_gradient = self.loss_derivative(X, y_hat) \n",
    "\n",
    "        self.v_w = self.v_w * beta - self.lr * w_gradient.T\n",
    "        self.v_b = self.v_b * beta - self.lr * b_gradient.T\n",
    "\n",
    "        self.w -= self.v_w\n",
    "        self.b -= self.v_b \n",
    "\n",
    "        return ce_loss\n",
    "    \n",
    "def optimize_model(model, opt_strategy, lr, epochs, traindata, testdata):\n",
    "\n",
    "    x_train, y_train = traindata\n",
    "    x_test, y_test = testdata\n",
    "    loss_hist, acc_hist = [], []\n",
    "\n",
    "    opt_foo = model.gradient_descent        \n",
    "    if opt_strategy == \"GD\":\n",
    "        opt_foo = model.gradient_descent\n",
    "    elif opt_strategy == \"SGD\":\n",
    "        opt_foo = model.stochastic_gradient_descent\n",
    "    elif opt_strategy == \"M-SGD\":\n",
    "        opt_foo = model.momentum_sgd\n",
    "\n",
    "    for e in range(epochs):\n",
    "\n",
    "        logits = model.forward(x_train)\n",
    "        y_hat = model.compute_probs(logits)\n",
    "        ce_loss = model.crossEntropy(y_hat, y_train)\n",
    "        w_gradient, b_gradient = model.loss_derivative(x_train, y_hat, y_train) \n",
    "        opt_foo(w_gradient, b_gradient, lr=lr)\n",
    "        preds = np.argmax(model.compute_probs(model.forward(x_test)), axis=1)\n",
    "        acc = accuracy_score(y_test, preds)\n",
    "        loss = ce_loss.sum()\n",
    "        \n",
    "        loss_hist.append(loss)\n",
    "        acc_hist.append(acc)\n",
    "\n",
    "    return np.array(acc), np.array(loss)\n",
    "\n",
    "\n"
   ]
  },
  {
   "cell_type": "markdown",
   "metadata": {},
   "source": [
    "## Pytorch Softmax Regression"
   ]
  },
  {
   "cell_type": "code",
   "execution_count": 4,
   "metadata": {},
   "outputs": [
    {
     "data": {
      "image/png": "[encoded data removed]",
      "text/plain": [
       "<Figure size 640x480 with 1 Axes>"
      ]
     },
     "metadata": {},
     "output_type": "display_data"
    },
    {
     "data": {
      "text/plain": [
       "[<matplotlib.lines.Line2D at 0x23ee7640eb0>]"
      ]
     },
     "execution_count": 4,
     "metadata": {},
     "output_type": "execute_result"
    },
    {
     "data": {
      "image/png": "[encoded data removed]",
      "text/plain": [
       "<Figure size 640x480 with 1 Axes>"
      ]
     },
     "metadata": {},
     "output_type": "display_data"
    }
   ],
   "source": [
    "class PytorchSoftmaxRegression(nn.Module):\n",
    "\n",
    "    def __init__(self, size, n_classes):\n",
    "        super(PytorchSoftmaxRegression, self ).__init__()\n",
    "        self.layer = nn.Linear(size, n_classes)\n",
    "        self.softmax = nn.Softmax(dim=1)\n",
    "\n",
    "    def forward(self, x):\n",
    "        logits = self.layer(x)\n",
    "        return self.softmax(logits)\n",
    "    \n",
    "    \n",
    "    def optimize(self, epochs, opt, loss_f, traindata, testdata):\n",
    "\n",
    "        x_train, y_train = traindata\n",
    "        x_test, y_test = testdata\n",
    "        loss_hist, acc_hist = [], []\n",
    "        \n",
    "        for e in range(epochs):\n",
    "            y_hat = self.forward(x_train)\n",
    "            loss = loss_f(y_hat, y_train)\n",
    "            preds = self.forward(x_test).argmax(dim=1)          \n",
    "            acc = accuracy_score(y_test, preds)\n",
    "            loss_hist.append(loss.item())\n",
    "            acc_hist.append(acc)\n",
    "            loss.backward()\n",
    "            opt.step()\n",
    "\n",
    "\n",
    "\n",
    "        return np.array(acc_hist), np.array(loss_hist)\n",
    "\n",
    "\n",
    "lr = 0.01\n",
    "\n",
    "pytorch_model = PytorchSoftmaxRegression(784, 10)\n",
    "opt = torch.optim.SGD(pytorch_model.parameters(), lr=lr)\n",
    "loss_foo = nn.CrossEntropyLoss()\n",
    "\n",
    "traindata = (torch.from_numpy(x_train.astype(np.float32)), torch.from_numpy(y_train.astype(np.float32)))\n",
    "testdata = (torch.from_numpy(x_test.astype(np.float32)), torch.from_numpy(y_test.astype(np.float32)))\n",
    "\n",
    "acc, loss = pytorch_model.optimize(100, opt, loss_foo, traindata, testdata)\n",
    "\n",
    "plt.plot(acc)\n",
    "plt.show()\n",
    "plt.plot(loss)"
   ]
  }
 ],
 "metadata": {
  "kernelspec": {
   "display_name": "Python 3",
   "language": "python",
   "name": "python3"
  },
  "language_info": {
   "codemirror_mode": {
    "name": "ipython",
    "version": 3
   },
   "file_extension": ".py",
   "mimetype": "text/x-python",
   "name": "python",
   "nbconvert_exporter": "python",
   "pygments_lexer": "ipython3",
   "version": "3.10.5"
  }
 },
 "nbformat": 4,
 "nbformat_minor": 2
}
