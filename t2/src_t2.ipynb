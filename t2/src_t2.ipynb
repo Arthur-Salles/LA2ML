{
 "cells": [
  {
   "cell_type": "markdown",
   "metadata": {},
   "source": [
    "Arthur Rezende Salles da Costa - 166003 \n",
    "\n",
    "T2 - LA2ML\n"
   ]
  },
  {
   "cell_type": "code",
   "execution_count": 47,
   "metadata": {},
   "outputs": [],
   "source": [
    "import pandas as pd \n",
    "import numpy as np\n",
    "import os \n"
   ]
  },
  {
   "cell_type": "markdown",
   "metadata": {},
   "source": [
    "Implementacao SVD"
   ]
  },
  {
   "cell_type": "code",
   "execution_count": 154,
   "metadata": {},
   "outputs": [
    {
     "name": "stderr",
     "output_type": "stream",
     "text": [
      "C:\\Users\\Arthur\\AppData\\Local\\Temp\\ipykernel_23760\\1596722193.py:9: RuntimeWarning: invalid value encountered in sqrt\n",
      "  sing_values = np.nan_to_num(np.sqrt(eigenvalues), True, 0)\n",
      "C:\\Users\\Arthur\\AppData\\Local\\Temp\\ipykernel_23760\\1596722193.py:17: RuntimeWarning: divide by zero encountered in divide\n",
      "  U = np.dot(A, V) / sing_values[sorted_singular_values]\n"
     ]
    },
    {
     "data": {
      "text/plain": [
       "(array([[-0.4472136 ,  0.89442719],\n",
       "        [ 0.89442719,  0.4472136 ]]),\n",
       " array([[2.44948974, 0.        , 0.        ],\n",
       "        [0.        , 1.        , 0.        ]]),\n",
       " array([[-9.12870929e-01,  3.65148372e-01, -1.82574186e-01],\n",
       "        [-5.78877993e-17,  4.47213595e-01,  8.94427191e-01],\n",
       "        [ 4.08248290e-01,  8.16496581e-01, -4.08248290e-01]]))"
      ]
     },
     "execution_count": 154,
     "metadata": {},
     "output_type": "execute_result"
    }
   ],
   "source": [
    "A = np.array([[1, 0, 1], [-2, 1, 0]])\n",
    "\n",
    "\n",
    "def my_svd(A):\n",
    "\n",
    "    ata = np.dot(A.T, A)\n",
    "\n",
    "    eigenvalues, eigenvectors = np.linalg.eigh(ata)\n",
    "    sing_values = np.nan_to_num(np.sqrt(eigenvalues), True, 0)\n",
    "    sorted_singular_values = np.argsort(sing_values)[::-1]\n",
    "\n",
    "    sigma = np.eye(A.shape[0], A.shape[1]) * sing_values[sorted_singular_values]\n",
    "    sigma = np.nan_to_num(sigma, False, 0)\n",
    "    # print(sigma)\n",
    "\n",
    "    V = eigenvectors[:, sorted_singular_values]\n",
    "    U = np.dot(A, V) / sing_values[sorted_singular_values]\n",
    "\n",
    "    if A.shape[0] != A.shape[1]:\n",
    "        U = U[:, :-1]\n",
    "\n",
    "    return U, sigma, V.T\n",
    "\n",
    "u, sigma, vt = my_svd(A)\n",
    "u, sigma, vt"
   ]
  },
  {
   "cell_type": "code",
   "execution_count": 155,
   "metadata": {},
   "outputs": [
    {
     "data": {
      "text/plain": [
       "(array([[-0.4472136 ,  0.89442719],\n",
       "        [ 0.89442719,  0.4472136 ]]),\n",
       " array([2.44948974, 1.        ]),\n",
       " array([[-9.12870929e-01,  3.65148372e-01, -1.82574186e-01],\n",
       "        [-3.73536832e-16,  4.47213595e-01,  8.94427191e-01],\n",
       "        [-4.08248290e-01, -8.16496581e-01,  4.08248290e-01]]))"
      ]
     },
     "execution_count": 155,
     "metadata": {},
     "output_type": "execute_result"
    }
   ],
   "source": [
    "\n",
    "u, sigma, vt = np.linalg.svd(A)\n",
    "u, sigma, vt"
   ]
  },
  {
   "cell_type": "markdown",
   "metadata": {},
   "source": [
    "Leitura dos Dados"
   ]
  },
  {
   "cell_type": "code",
   "execution_count": 16,
   "metadata": {},
   "outputs": [
    {
     "name": "stdout",
     "output_type": "stream",
     "text": [
      "943 1682\n"
     ]
    },
    {
     "data": {
      "text/html": [
       "<div>\n",
       "<style scoped>\n",
       "    .dataframe tbody tr th:only-of-type {\n",
       "        vertical-align: middle;\n",
       "    }\n",
       "\n",
       "    .dataframe tbody tr th {\n",
       "        vertical-align: top;\n",
       "    }\n",
       "\n",
       "    .dataframe thead th {\n",
       "        text-align: right;\n",
       "    }\n",
       "</style>\n",
       "<table border=\"1\" class=\"dataframe\">\n",
       "  <thead>\n",
       "    <tr style=\"text-align: right;\">\n",
       "      <th></th>\n",
       "      <th>user_id</th>\n",
       "      <th>item_id</th>\n",
       "      <th>rating</th>\n",
       "      <th>timestamp</th>\n",
       "    </tr>\n",
       "  </thead>\n",
       "  <tbody>\n",
       "    <tr>\n",
       "      <th>0</th>\n",
       "      <td>196</td>\n",
       "      <td>242</td>\n",
       "      <td>3</td>\n",
       "      <td>881250949</td>\n",
       "    </tr>\n",
       "    <tr>\n",
       "      <th>1</th>\n",
       "      <td>186</td>\n",
       "      <td>302</td>\n",
       "      <td>3</td>\n",
       "      <td>891717742</td>\n",
       "    </tr>\n",
       "    <tr>\n",
       "      <th>2</th>\n",
       "      <td>22</td>\n",
       "      <td>377</td>\n",
       "      <td>1</td>\n",
       "      <td>878887116</td>\n",
       "    </tr>\n",
       "    <tr>\n",
       "      <th>3</th>\n",
       "      <td>244</td>\n",
       "      <td>51</td>\n",
       "      <td>2</td>\n",
       "      <td>880606923</td>\n",
       "    </tr>\n",
       "    <tr>\n",
       "      <th>4</th>\n",
       "      <td>166</td>\n",
       "      <td>346</td>\n",
       "      <td>1</td>\n",
       "      <td>886397596</td>\n",
       "    </tr>\n",
       "  </tbody>\n",
       "</table>\n",
       "</div>"
      ],
      "text/plain": [
       "   user_id  item_id  rating  timestamp\n",
       "0      196      242       3  881250949\n",
       "1      186      302       3  891717742\n",
       "2       22      377       1  878887116\n",
       "3      244       51       2  880606923\n",
       "4      166      346       1  886397596"
      ]
     },
     "metadata": {},
     "output_type": "display_data"
    }
   ],
   "source": [
    "def read_data_ml100k():\n",
    "    # code extracted from -> https://www.d2l.ai/chapter_recommender-systems/movielens.html\n",
    "    data_dir = \"../t2/data/ml-100k\"\n",
    "    names = ['user_id', 'item_id', 'rating', 'timestamp']\n",
    "    data = pd.read_csv(os.path.join(data_dir, 'u.data'), sep='\\t',\n",
    "                       names=names, engine='python')\n",
    "    num_users = data.user_id.unique().shape[0]\n",
    "    num_items = data.item_id.unique().shape[0]\n",
    "    return data, num_users, num_items\n",
    "\n",
    "data, num_users, num_items = read_data_ml100k()\n",
    "print(num_users, num_items)\n",
    "display(data.head())"
   ]
  }
 ],
 "metadata": {
  "kernelspec": {
   "display_name": "Python 3",
   "language": "python",
   "name": "python3"
  },
  "language_info": {
   "codemirror_mode": {
    "name": "ipython",
    "version": 3
   },
   "file_extension": ".py",
   "mimetype": "text/x-python",
   "name": "python",
   "nbconvert_exporter": "python",
   "pygments_lexer": "ipython3",
   "version": "3.10.5"
  }
 },
 "nbformat": 4,
 "nbformat_minor": 2
}
