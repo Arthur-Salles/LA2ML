{
 "cells": [
  {
   "cell_type": "code",
   "execution_count": 86,
   "metadata": {},
   "outputs": [
    {
     "name": "stdout",
     "output_type": "stream",
     "text": [
      "(178, 13)\n"
     ]
    },
    {
     "data": {
      "text/html": [
       "<div>\n",
       "<style scoped>\n",
       "    .dataframe tbody tr th:only-of-type {\n",
       "        vertical-align: middle;\n",
       "    }\n",
       "\n",
       "    .dataframe tbody tr th {\n",
       "        vertical-align: top;\n",
       "    }\n",
       "\n",
       "    .dataframe thead th {\n",
       "        text-align: right;\n",
       "    }\n",
       "</style>\n",
       "<table border=\"1\" class=\"dataframe\">\n",
       "  <thead>\n",
       "    <tr style=\"text-align: right;\">\n",
       "      <th></th>\n",
       "      <th>alcohol</th>\n",
       "      <th>malic_acid</th>\n",
       "      <th>ash</th>\n",
       "      <th>alcalinity_of_ash</th>\n",
       "      <th>magnesium</th>\n",
       "      <th>total_phenols</th>\n",
       "      <th>flavanoids</th>\n",
       "      <th>nonflavanoid_phenols</th>\n",
       "      <th>proanthocyanins</th>\n",
       "      <th>color_intensity</th>\n",
       "      <th>hue</th>\n",
       "      <th>od280/od315_of_diluted_wines</th>\n",
       "      <th>proline</th>\n",
       "    </tr>\n",
       "  </thead>\n",
       "  <tbody>\n",
       "    <tr>\n",
       "      <th>0</th>\n",
       "      <td>14.23</td>\n",
       "      <td>1.71</td>\n",
       "      <td>2.43</td>\n",
       "      <td>15.6</td>\n",
       "      <td>127.0</td>\n",
       "      <td>2.80</td>\n",
       "      <td>3.06</td>\n",
       "      <td>0.28</td>\n",
       "      <td>2.29</td>\n",
       "      <td>5.64</td>\n",
       "      <td>1.04</td>\n",
       "      <td>3.92</td>\n",
       "      <td>1065.0</td>\n",
       "    </tr>\n",
       "    <tr>\n",
       "      <th>1</th>\n",
       "      <td>13.20</td>\n",
       "      <td>1.78</td>\n",
       "      <td>2.14</td>\n",
       "      <td>11.2</td>\n",
       "      <td>100.0</td>\n",
       "      <td>2.65</td>\n",
       "      <td>2.76</td>\n",
       "      <td>0.26</td>\n",
       "      <td>1.28</td>\n",
       "      <td>4.38</td>\n",
       "      <td>1.05</td>\n",
       "      <td>3.40</td>\n",
       "      <td>1050.0</td>\n",
       "    </tr>\n",
       "    <tr>\n",
       "      <th>2</th>\n",
       "      <td>13.16</td>\n",
       "      <td>2.36</td>\n",
       "      <td>2.67</td>\n",
       "      <td>18.6</td>\n",
       "      <td>101.0</td>\n",
       "      <td>2.80</td>\n",
       "      <td>3.24</td>\n",
       "      <td>0.30</td>\n",
       "      <td>2.81</td>\n",
       "      <td>5.68</td>\n",
       "      <td>1.03</td>\n",
       "      <td>3.17</td>\n",
       "      <td>1185.0</td>\n",
       "    </tr>\n",
       "    <tr>\n",
       "      <th>3</th>\n",
       "      <td>14.37</td>\n",
       "      <td>1.95</td>\n",
       "      <td>2.50</td>\n",
       "      <td>16.8</td>\n",
       "      <td>113.0</td>\n",
       "      <td>3.85</td>\n",
       "      <td>3.49</td>\n",
       "      <td>0.24</td>\n",
       "      <td>2.18</td>\n",
       "      <td>7.80</td>\n",
       "      <td>0.86</td>\n",
       "      <td>3.45</td>\n",
       "      <td>1480.0</td>\n",
       "    </tr>\n",
       "    <tr>\n",
       "      <th>4</th>\n",
       "      <td>13.24</td>\n",
       "      <td>2.59</td>\n",
       "      <td>2.87</td>\n",
       "      <td>21.0</td>\n",
       "      <td>118.0</td>\n",
       "      <td>2.80</td>\n",
       "      <td>2.69</td>\n",
       "      <td>0.39</td>\n",
       "      <td>1.82</td>\n",
       "      <td>4.32</td>\n",
       "      <td>1.04</td>\n",
       "      <td>2.93</td>\n",
       "      <td>735.0</td>\n",
       "    </tr>\n",
       "  </tbody>\n",
       "</table>\n",
       "</div>"
      ],
      "text/plain": [
       "   alcohol  malic_acid   ash  alcalinity_of_ash  magnesium  total_phenols  \\\n",
       "0    14.23        1.71  2.43               15.6      127.0           2.80   \n",
       "1    13.20        1.78  2.14               11.2      100.0           2.65   \n",
       "2    13.16        2.36  2.67               18.6      101.0           2.80   \n",
       "3    14.37        1.95  2.50               16.8      113.0           3.85   \n",
       "4    13.24        2.59  2.87               21.0      118.0           2.80   \n",
       "\n",
       "   flavanoids  nonflavanoid_phenols  proanthocyanins  color_intensity   hue  \\\n",
       "0        3.06                  0.28             2.29             5.64  1.04   \n",
       "1        2.76                  0.26             1.28             4.38  1.05   \n",
       "2        3.24                  0.30             2.81             5.68  1.03   \n",
       "3        3.49                  0.24             2.18             7.80  0.86   \n",
       "4        2.69                  0.39             1.82             4.32  1.04   \n",
       "\n",
       "   od280/od315_of_diluted_wines  proline  \n",
       "0                          3.92   1065.0  \n",
       "1                          3.40   1050.0  \n",
       "2                          3.17   1185.0  \n",
       "3                          3.45   1480.0  \n",
       "4                          2.93    735.0  "
      ]
     },
     "execution_count": 86,
     "metadata": {},
     "output_type": "execute_result"
    }
   ],
   "source": [
    "import pandas as pd\n",
    "import jax.numpy as jnp\n",
    "import jax\n",
    "import numpy as np\n",
    "from sklearn.model_selection import train_test_split\n",
    "from sklearn.neighbors import KNeighborsClassifier\n",
    "from sklearn.metrics import accuracy_score, f1_score, confusion_matrix, recall_score, matthews_corrcoef\n",
    "import matplotlib.pyplot as plt\n",
    "import seaborn as sns\n",
    "\n",
    "# Carregando o dataset wine diretamente do scikit-learn\n",
    "from sklearn.datasets import load_wine\n",
    "data, target = load_wine(return_X_y=True, as_frame=True)\n",
    "\n",
    "eval_dict = {\n",
    "    'Accuracy' : accuracy_score,\n",
    "    'MC Coef' : matthews_corrcoef,\n",
    "    'Confusion Matrix' : confusion_matrix,\n",
    "    'F1 Score' : f1_score,\n",
    "    'Recall' : recall_score,\n",
    "}\n",
    "\n",
    "print(data.shape)\n",
    "\n",
    "data.head()"
   ]
  },
  {
   "cell_type": "code",
   "execution_count": 140,
   "metadata": {},
   "outputs": [
    {
     "data": {
      "text/plain": [
       "((106, 13), (72, 13), (106,), (72,))"
      ]
     },
     "execution_count": 140,
     "metadata": {},
     "output_type": "execute_result"
    }
   ],
   "source": [
    "from sklearn.model_selection import train_test_split \n",
    "\n",
    "x_train, x_test, y_train, y_test = train_test_split(data, target, test_size=0.4, random_state=166003)\n",
    "\n",
    "compact_data = (x_train, x_test, y_train, y_test )\n",
    "\n",
    "jx_train, jx_test, jy_train, jy_test = jnp.array(x_train), jnp.array(x_test) , jnp.array(y_train), jnp.array(y_test)\n",
    "\n",
    "x_train.shape, x_test.shape, y_train.shape, y_test.shape\n"
   ]
  },
  {
   "cell_type": "code",
   "execution_count": 156,
   "metadata": {},
   "outputs": [
    {
     "name": "stdout",
     "output_type": "stream",
     "text": [
      "Accuracy : 0.8333\n",
      "MC Coef : 0.7539\n",
      "F1 Score : 0.8333\n",
      "Recall : 0.8333\n"
     ]
    },
    {
     "data": {
      "image/png": "[encoded data removed]",
      "text/plain": [
       "<Figure size 640x480 with 2 Axes>"
      ]
     },
     "metadata": {},
     "output_type": "display_data"
    }
   ],
   "source": [
    "def get_metrics(preds, ytest, eval_metrics):\n",
    "\n",
    "    results = {}\n",
    "\n",
    "    for m_name, m_foo in eval_metrics.items():\n",
    "        if m_name in ['F1 Score', 'Recall'] :\n",
    "            results[m_name] = m_foo(ytest, preds, average='micro')\n",
    "        else:\n",
    "            results[m_name] = m_foo(ytest, preds)\n",
    "\n",
    "    return results\n",
    "\n",
    "def show_results(results):\n",
    "    \n",
    "    for m_name, m_value in results.items():\n",
    "\n",
    "        if m_name == 'Confusion Matrix': \n",
    "\n",
    "            sns.heatmap(m_value, annot=True, fmt=\"d\", cmap=\"Blues\", cbar=True, \n",
    "                xticklabels=[\"Class 0\", \"Class 1\", \"Class 2\"], \n",
    "                yticklabels=[\"Class 0\", \"Class 1\", \"Class 2\"])\n",
    "\n",
    "        else:\n",
    "            print(f'{m_name} : {m_value:.4f}')\n",
    "\n",
    "\n",
    "\n",
    "def run_sklearn_benchmark(data, eval_metrics, k=5, metric='minkowski'): \n",
    "\n",
    "    x_train, x_test, y_train, y_test = data\n",
    "\n",
    "    knn_benchmark = KNeighborsClassifier(n_neighbors=k, metric=metric)\n",
    "\n",
    "    knn_benchmark.fit(x_train, y_train)\n",
    "\n",
    "    y_pred = knn_benchmark.predict(x_test)\n",
    "\n",
    "    results = get_metrics(y_pred, y_test, eval_metrics)\n",
    "\n",
    "\n",
    "    return results\n",
    "\n",
    "\n",
    "\n",
    "results = run_sklearn_benchmark(compact_data, eval_dict, k=1)\n",
    "\n",
    "show_results(results)\n"
   ]
  },
  {
   "cell_type": "code",
   "execution_count": 312,
   "metadata": {},
   "outputs": [
    {
     "name": "stdout",
     "output_type": "stream",
     "text": [
      "() () ()\n",
      "()\n"
     ]
    },
    {
     "data": {
      "text/plain": [
       "(None, Array(1.4142135, dtype=float32))"
      ]
     },
     "execution_count": 312,
     "metadata": {},
     "output_type": "execute_result"
    }
   ],
   "source": [
    "X = jnp.array([3, 4])\n",
    "Y = jnp.array([2, 5])\n",
    "\n",
    "\n",
    "def general_distance(x, y, inner_product=jnp.dot) :\n",
    "    # se trocar a funcao jnp.dot, por outro produto interno, isso vira outra metrica de distancia\n",
    "    A = x - y  \n",
    "    e = jnp.sqrt(inner_product(A, A))\n",
    "    print(e.shape)\n",
    "    return e\n",
    "\n",
    "\n",
    "# # @jax.jit\n",
    "def euclidean_distance(x, y):\n",
    "    # according to sklearn this is faster \n",
    "    # return jnp.sqrt(jnp.dot(x,x) - 2 * jnp.dot(x, y.T) + jnp.dot(y,y))\n",
    "    xy = jnp.dot(x, y.T).sum()\n",
    "    xx = jnp.dot(x, x.T).sum()\n",
    "    yy = jnp.dot(y, y.T).sum()\n",
    "\n",
    "    \n",
    "\n",
    "    # return jnp.sqrt()\n",
    "\n",
    "\n",
    "euclidean_distance(X, Y), general_distance(X, Y)\n",
    "\n",
    "\n",
    "\n"
   ]
  },
  {
   "cell_type": "code",
   "execution_count": 323,
   "metadata": {},
   "outputs": [
    {
     "data": {
      "text/plain": [
       "(Array(3.1939512e+09, dtype=float32), Array(71298496., dtype=float32))"
      ]
     },
     "execution_count": 323,
     "metadata": {},
     "output_type": "execute_result"
    }
   ],
   "source": [
    "e1 = jnp.sum(jnp.dot(jx_test, jx_test.T))\n",
    "e2 = jnp.sum(jnp.dot(jx_test.T, jx_test))\n"
   ]
  },
  {
   "cell_type": "code",
   "execution_count": 313,
   "metadata": {},
   "outputs": [
    {
     "name": "stdout",
     "output_type": "stream",
     "text": [
      "(106, 13) (72, 13)\n",
      "(106, 106) () (72, 72)\n"
     ]
    }
   ],
   "source": [
    "a = jx_train\n",
    "b = jx_test\n",
    "print(a.shape, b.shape)\n",
    "\n",
    "# diff = a - b \n",
    "\n",
    "\n",
    "euclidean_distance(a, b)\n",
    "\n",
    "\n"
   ]
  },
  {
   "cell_type": "code",
   "execution_count": 326,
   "metadata": {},
   "outputs": [
    {
     "ename": "TypeError",
     "evalue": "sub got incompatible shapes for broadcasting: (106,), (7632,).",
     "output_type": "error",
     "traceback": [
      "\u001b[1;31m---------------------------------------------------------------------------\u001b[0m",
      "\u001b[1;31mTypeError\u001b[0m                                 Traceback (most recent call last)",
      "Cell \u001b[1;32mIn [326], line 19\u001b[0m\n\u001b[0;32m     14\u001b[0m     distance \u001b[38;5;241m=\u001b[39m jnp\u001b[38;5;241m.\u001b[39msqrt(A_dot_A \u001b[38;5;241m-\u001b[39m \u001b[38;5;241m2\u001b[39m \u001b[38;5;241m*\u001b[39m A_dot_B \u001b[38;5;241m+\u001b[39m B_dot_B)\n\u001b[0;32m     16\u001b[0m     \u001b[38;5;28;01mreturn\u001b[39;00m distance\n\u001b[1;32m---> 19\u001b[0m \u001b[43meuclidean_distance_with_dot\u001b[49m\u001b[43m(\u001b[49m\u001b[43ma\u001b[49m\u001b[43m,\u001b[49m\u001b[43mb\u001b[49m\u001b[43m)\u001b[49m\n",
      "Cell \u001b[1;32mIn [326], line 14\u001b[0m, in \u001b[0;36meuclidean_distance_with_dot\u001b[1;34m(A, B)\u001b[0m\n\u001b[0;32m     11\u001b[0m B_dot_B \u001b[38;5;241m=\u001b[39m jnp\u001b[38;5;241m.\u001b[39msum(B \u001b[38;5;241m*\u001b[39m B)\n\u001b[0;32m     13\u001b[0m \u001b[38;5;66;03m# Euclidean distance calculation\u001b[39;00m\n\u001b[1;32m---> 14\u001b[0m distance \u001b[38;5;241m=\u001b[39m jnp\u001b[38;5;241m.\u001b[39msqrt(\u001b[43mA_dot_A\u001b[49m\u001b[43m \u001b[49m\u001b[38;5;241;43m-\u001b[39;49m\u001b[43m \u001b[49m\u001b[38;5;241;43m2\u001b[39;49m\u001b[43m \u001b[49m\u001b[38;5;241;43m*\u001b[39;49m\u001b[43m \u001b[49m\u001b[43mA_dot_B\u001b[49m \u001b[38;5;241m+\u001b[39m B_dot_B)\n\u001b[0;32m     16\u001b[0m \u001b[38;5;28;01mreturn\u001b[39;00m distance\n",
      "File \u001b[1;32mc:\\Users\\Arthur\\AppData\\Local\\Programs\\Python\\Python310\\lib\\site-packages\\jax\\_src\\numpy\\array_methods.py:272\u001b[0m, in \u001b[0;36m_defer_to_unrecognized_arg.<locals>.deferring_binary_op\u001b[1;34m(self, other)\u001b[0m\n\u001b[0;32m    270\u001b[0m args \u001b[38;5;241m=\u001b[39m (other, \u001b[38;5;28mself\u001b[39m) \u001b[38;5;28;01mif\u001b[39;00m swap \u001b[38;5;28;01melse\u001b[39;00m (\u001b[38;5;28mself\u001b[39m, other)\n\u001b[0;32m    271\u001b[0m \u001b[38;5;28;01mif\u001b[39;00m \u001b[38;5;28misinstance\u001b[39m(other, _accepted_binop_types):\n\u001b[1;32m--> 272\u001b[0m   \u001b[38;5;28;01mreturn\u001b[39;00m \u001b[43mbinary_op\u001b[49m\u001b[43m(\u001b[49m\u001b[38;5;241;43m*\u001b[39;49m\u001b[43margs\u001b[49m\u001b[43m)\u001b[49m\n\u001b[0;32m    273\u001b[0m \u001b[38;5;66;03m# Note: don't use isinstance here, because we don't want to raise for\u001b[39;00m\n\u001b[0;32m    274\u001b[0m \u001b[38;5;66;03m# subclasses, e.g. NamedTuple objects that may override operators.\u001b[39;00m\n\u001b[0;32m    275\u001b[0m \u001b[38;5;28;01mif\u001b[39;00m \u001b[38;5;28mtype\u001b[39m(other) \u001b[38;5;129;01min\u001b[39;00m _rejected_binop_types:\n",
      "    \u001b[1;31m[... skipping hidden 11 frame]\u001b[0m\n",
      "File \u001b[1;32mc:\\Users\\Arthur\\AppData\\Local\\Programs\\Python\\Python310\\lib\\site-packages\\jax\\_src\\numpy\\ufuncs.py:252\u001b[0m, in \u001b[0;36msubtract\u001b[1;34m(x, y)\u001b[0m\n\u001b[0;32m    249\u001b[0m \u001b[38;5;129m@implements\u001b[39m(np\u001b[38;5;241m.\u001b[39msubtract, module\u001b[38;5;241m=\u001b[39m\u001b[38;5;124m'\u001b[39m\u001b[38;5;124mnumpy\u001b[39m\u001b[38;5;124m'\u001b[39m)\n\u001b[0;32m    250\u001b[0m \u001b[38;5;129m@partial\u001b[39m(jit, inline\u001b[38;5;241m=\u001b[39m\u001b[38;5;28;01mTrue\u001b[39;00m)\n\u001b[0;32m    251\u001b[0m \u001b[38;5;28;01mdef\u001b[39;00m \u001b[38;5;21msubtract\u001b[39m(x: ArrayLike, y: ArrayLike, \u001b[38;5;241m/\u001b[39m) \u001b[38;5;241m-\u001b[39m\u001b[38;5;241m>\u001b[39m Array:\n\u001b[1;32m--> 252\u001b[0m   \u001b[38;5;28;01mreturn\u001b[39;00m \u001b[43mlax\u001b[49m\u001b[38;5;241;43m.\u001b[39;49m\u001b[43msub\u001b[49m\u001b[43m(\u001b[49m\u001b[38;5;241;43m*\u001b[39;49m\u001b[43mpromote_args\u001b[49m\u001b[43m(\u001b[49m\u001b[38;5;124;43m\"\u001b[39;49m\u001b[38;5;124;43msubtract\u001b[39;49m\u001b[38;5;124;43m\"\u001b[39;49m\u001b[43m,\u001b[49m\u001b[43m \u001b[49m\u001b[43mx\u001b[49m\u001b[43m,\u001b[49m\u001b[43m \u001b[49m\u001b[43my\u001b[49m\u001b[43m)\u001b[49m\u001b[43m)\u001b[49m\n",
      "    \u001b[1;31m[... skipping hidden 7 frame]\u001b[0m\n",
      "File \u001b[1;32mc:\\Users\\Arthur\\AppData\\Local\\Programs\\Python\\Python310\\lib\\site-packages\\jax\\_src\\lax\\lax.py:1725\u001b[0m, in \u001b[0;36mbroadcasting_shape_rule\u001b[1;34m(name, *avals)\u001b[0m\n\u001b[0;32m   1723\u001b[0m       result_shape\u001b[38;5;241m.\u001b[39mappend(non_1s[\u001b[38;5;241m0\u001b[39m])\n\u001b[0;32m   1724\u001b[0m     \u001b[38;5;28;01melse\u001b[39;00m:\n\u001b[1;32m-> 1725\u001b[0m       \u001b[38;5;28;01mraise\u001b[39;00m \u001b[38;5;167;01mTypeError\u001b[39;00m(\u001b[38;5;124mf\u001b[39m\u001b[38;5;124m'\u001b[39m\u001b[38;5;132;01m{\u001b[39;00mname\u001b[38;5;132;01m}\u001b[39;00m\u001b[38;5;124m got incompatible shapes for broadcasting: \u001b[39m\u001b[38;5;124m'\u001b[39m\n\u001b[0;32m   1726\u001b[0m                       \u001b[38;5;124mf\u001b[39m\u001b[38;5;124m'\u001b[39m\u001b[38;5;132;01m{\u001b[39;00m\u001b[38;5;124m\"\u001b[39m\u001b[38;5;124m, \u001b[39m\u001b[38;5;124m\"\u001b[39m\u001b[38;5;241m.\u001b[39mjoin(\u001b[38;5;28mmap\u001b[39m(\u001b[38;5;28mstr\u001b[39m, \u001b[38;5;28mmap\u001b[39m(\u001b[38;5;28mtuple\u001b[39m, shapes)))\u001b[38;5;132;01m}\u001b[39;00m\u001b[38;5;124m.\u001b[39m\u001b[38;5;124m'\u001b[39m)\n\u001b[0;32m   1728\u001b[0m \u001b[38;5;28;01mreturn\u001b[39;00m \u001b[38;5;28mtuple\u001b[39m(result_shape)\n",
      "\u001b[1;31mTypeError\u001b[0m: sub got incompatible shapes for broadcasting: (106,), (7632,)."
     ]
    }
   ],
   "source": [
    "\n",
    "import jax.numpy as jnp\n",
    "\n",
    "def euclidean_distance_with_dot(A, B):\n",
    "    # Compute the dot product of each row of A with itself (A · A)\n",
    "    A_dot_A = jnp.sum(A * A, axis=1)\n",
    "    \n",
    "    # Compute the dot product of A with B (A · B^T)\n",
    "    A_dot_B = jnp.dot(A, B.T).flatten()\n",
    "    \n",
    "    # Compute the dot product of B with itself (B · B)\n",
    "    B_dot_B = jnp.sum(B * B)\n",
    "    \n",
    "    # Euclidean distance calculation\n",
    "    distance = jnp.sqrt(A_dot_A - 2 * A_dot_B + B_dot_B)\n",
    "    \n",
    "    return distance\n",
    "\n",
    "\n",
    "euclidean_distance_with_dot(a,b)\n"
   ]
  },
  {
   "cell_type": "code",
   "execution_count": 309,
   "metadata": {},
   "outputs": [
    {
     "data": {
      "text/plain": [
       "(106, 106)"
      ]
     },
     "execution_count": 309,
     "metadata": {},
     "output_type": "execute_result"
    }
   ],
   "source": [
    "xx = jnp.dot(a, a.T)\n",
    "xx.shape"
   ]
  },
  {
   "cell_type": "code",
   "execution_count": 178,
   "metadata": {},
   "outputs": [],
   "source": [
    "def fit_knn(xtrain, ytrain, xtest, ytest, dist_f, k = 5):\n",
    "    \n",
    "    preds = np.zeros(len(xtest))\n",
    "    test_samples = {}\n",
    "    \n",
    "    for test_inx, test_sample in enumerate(xtest):\n",
    "        \n",
    "        test_samples[test_inx] = np.zeros(len(xtrain))\n",
    "        \n",
    "        min_dist = float('inf')\n",
    "                \n",
    "        for train_inx, train_sample in enumerate(xtrain):\n",
    "            \n",
    "            test_samples[test_inx][train_inx] = dist_f(test_sample, train_sample)\n",
    "\n",
    "        closest_k = ytrain[ np.argsort(test_samples[test_inx])[0:k]]\n",
    "        preds[test_inx] = np.argmax(np.bincount(closest_k.astype(int)))\n",
    "   \n",
    "    return preds#, test_samples\n",
    "\n",
    "\n"
   ]
  },
  {
   "cell_type": "code",
   "execution_count": 180,
   "metadata": {},
   "outputs": [
    {
     "name": "stdout",
     "output_type": "stream",
     "text": [
      "Accuracy : 0.8194\n",
      "MC Coef : 0.7274\n",
      "F1 Score : 0.8194\n",
      "Recall : 0.8194\n"
     ]
    },
    {
     "data": {
      "image/png": "[encoded data removed]",
      "text/plain": [
       "<Figure size 640x480 with 2 Axes>"
      ]
     },
     "metadata": {},
     "output_type": "display_data"
    }
   ],
   "source": [
    "preds = fit_knn(jx_train, jy_train, jx_test, jy_test, euclidean_distance, k=5)\n",
    "\n",
    "\n",
    "metrics = get_metrics(preds, jy_test, eval_dict)\n",
    "\n",
    "show_results(metrics)"
   ]
  },
  {
   "cell_type": "code",
   "execution_count": 199,
   "metadata": {},
   "outputs": [
    {
     "name": "stdout",
     "output_type": "stream",
     "text": [
      "(106, 13)\n",
      "(72, 13)\n"
     ]
    },
    {
     "ename": "TypeError",
     "evalue": "dot_general requires contracting dimensions to have the same shape, got (13,) and (106,).",
     "output_type": "error",
     "traceback": [
      "\u001b[1;31m---------------------------------------------------------------------------\u001b[0m",
      "\u001b[1;31mTypeError\u001b[0m                                 Traceback (most recent call last)",
      "Cell \u001b[1;32mIn [199], line 55\u001b[0m\n\u001b[0;32m     53\u001b[0m knn_test \u001b[38;5;241m=\u001b[39m myKNN(\u001b[38;5;241m5\u001b[39m, euclidean_distance)\n\u001b[0;32m     54\u001b[0m knn_test\u001b[38;5;241m.\u001b[39mfit(jx_train, jy_train)\n\u001b[1;32m---> 55\u001b[0m \u001b[43mknn_test\u001b[49m\u001b[38;5;241;43m.\u001b[39;49m\u001b[43mgenerate_dist\u001b[49m\u001b[43m(\u001b[49m\u001b[43mjx_test\u001b[49m\u001b[43m)\u001b[49m\n",
      "Cell \u001b[1;32mIn [199], line 39\u001b[0m, in \u001b[0;36mmyKNN.generate_dist\u001b[1;34m(self, x_test)\u001b[0m\n\u001b[0;32m     37\u001b[0m \u001b[38;5;28;01mdef\u001b[39;00m \u001b[38;5;21mgenerate_dist\u001b[39m(\u001b[38;5;28mself\u001b[39m, x_test):\n\u001b[0;32m     38\u001b[0m     \u001b[38;5;28mprint\u001b[39m(x_test\u001b[38;5;241m.\u001b[39mshape)\n\u001b[1;32m---> 39\u001b[0m     \u001b[38;5;28;01mreturn\u001b[39;00m \u001b[38;5;28;43mself\u001b[39;49m\u001b[38;5;241;43m.\u001b[39;49m\u001b[43mmetric\u001b[49m\u001b[43m(\u001b[49m\u001b[38;5;28;43mself\u001b[39;49m\u001b[38;5;241;43m.\u001b[39;49m\u001b[43mX\u001b[49m\u001b[43m,\u001b[49m\u001b[43m \u001b[49m\u001b[43mx_test\u001b[49m\u001b[43m)\u001b[49m\n",
      "Cell \u001b[1;32mIn [135], line 13\u001b[0m, in \u001b[0;36meuclidean_distance\u001b[1;34m(x, y)\u001b[0m\n\u001b[0;32m     11\u001b[0m \u001b[38;5;28;01mdef\u001b[39;00m \u001b[38;5;21meuclidean_distance\u001b[39m(x, y):\n\u001b[0;32m     12\u001b[0m     \u001b[38;5;66;03m# according to sklearn this is faster \u001b[39;00m\n\u001b[1;32m---> 13\u001b[0m     \u001b[38;5;28;01mreturn\u001b[39;00m jnp\u001b[38;5;241m.\u001b[39msqrt(\u001b[43mjnp\u001b[49m\u001b[38;5;241;43m.\u001b[39;49m\u001b[43mdot\u001b[49m\u001b[43m(\u001b[49m\u001b[43mx\u001b[49m\u001b[43m,\u001b[49m\u001b[43mx\u001b[49m\u001b[43m)\u001b[49m \u001b[38;5;241m-\u001b[39m \u001b[38;5;241m2\u001b[39m \u001b[38;5;241m*\u001b[39m jnp\u001b[38;5;241m.\u001b[39mdot(x,y) \u001b[38;5;241m+\u001b[39m jnp\u001b[38;5;241m.\u001b[39mdot(y,y))\n",
      "    \u001b[1;31m[... skipping hidden 11 frame]\u001b[0m\n",
      "File \u001b[1;32mc:\\Users\\Arthur\\AppData\\Local\\Programs\\Python\\Python310\\lib\\site-packages\\jax\\_src\\numpy\\lax_numpy.py:5761\u001b[0m, in \u001b[0;36mdot\u001b[1;34m(a, b, precision, preferred_element_type)\u001b[0m\n\u001b[0;32m   5759\u001b[0m   \u001b[38;5;28;01melse\u001b[39;00m:\n\u001b[0;32m   5760\u001b[0m     contract_dims \u001b[38;5;241m=\u001b[39m ((a_ndim \u001b[38;5;241m-\u001b[39m \u001b[38;5;241m1\u001b[39m,), (b_ndim \u001b[38;5;241m-\u001b[39m \u001b[38;5;241m2\u001b[39m,))\n\u001b[1;32m-> 5761\u001b[0m   result \u001b[38;5;241m=\u001b[39m \u001b[43mlax\u001b[49m\u001b[38;5;241;43m.\u001b[39;49m\u001b[43mdot_general\u001b[49m\u001b[43m(\u001b[49m\u001b[43ma\u001b[49m\u001b[43m,\u001b[49m\u001b[43m \u001b[49m\u001b[43mb\u001b[49m\u001b[43m,\u001b[49m\u001b[43m \u001b[49m\u001b[43mdimension_numbers\u001b[49m\u001b[38;5;241;43m=\u001b[39;49m\u001b[43m(\u001b[49m\u001b[43mcontract_dims\u001b[49m\u001b[43m,\u001b[49m\u001b[43m \u001b[49m\u001b[43mbatch_dims\u001b[49m\u001b[43m)\u001b[49m\u001b[43m,\u001b[49m\n\u001b[0;32m   5762\u001b[0m \u001b[43m                           \u001b[49m\u001b[43mprecision\u001b[49m\u001b[38;5;241;43m=\u001b[39;49m\u001b[43mprecision\u001b[49m\u001b[43m,\u001b[49m\u001b[43m \u001b[49m\u001b[43mpreferred_element_type\u001b[49m\u001b[38;5;241;43m=\u001b[39;49m\u001b[43mpreferred_element_type\u001b[49m\u001b[43m)\u001b[49m\n\u001b[0;32m   5763\u001b[0m \u001b[38;5;28;01mreturn\u001b[39;00m lax_internal\u001b[38;5;241m.\u001b[39m_convert_element_type(result, preferred_element_type, output_weak_type)\n",
      "    \u001b[1;31m[... skipping hidden 7 frame]\u001b[0m\n",
      "File \u001b[1;32mc:\\Users\\Arthur\\AppData\\Local\\Programs\\Python\\Python310\\lib\\site-packages\\jax\\_src\\lax\\lax.py:2723\u001b[0m, in \u001b[0;36m_dot_general_shape_rule\u001b[1;34m(lhs, rhs, dimension_numbers, precision, preferred_element_type)\u001b[0m\n\u001b[0;32m   2720\u001b[0m \u001b[38;5;28;01mif\u001b[39;00m \u001b[38;5;129;01mnot\u001b[39;00m core\u001b[38;5;241m.\u001b[39mdefinitely_equal_shape(lhs_contracting_shape, rhs_contracting_shape):\n\u001b[0;32m   2721\u001b[0m   msg \u001b[38;5;241m=\u001b[39m (\u001b[38;5;124m\"\u001b[39m\u001b[38;5;124mdot_general requires contracting dimensions to have the same \u001b[39m\u001b[38;5;124m\"\u001b[39m\n\u001b[0;32m   2722\u001b[0m          \u001b[38;5;124m\"\u001b[39m\u001b[38;5;124mshape, got \u001b[39m\u001b[38;5;132;01m{}\u001b[39;00m\u001b[38;5;124m and \u001b[39m\u001b[38;5;132;01m{}\u001b[39;00m\u001b[38;5;124m.\u001b[39m\u001b[38;5;124m\"\u001b[39m)\n\u001b[1;32m-> 2723\u001b[0m   \u001b[38;5;28;01mraise\u001b[39;00m \u001b[38;5;167;01mTypeError\u001b[39;00m(msg\u001b[38;5;241m.\u001b[39mformat(lhs_contracting_shape, rhs_contracting_shape))\n\u001b[0;32m   2725\u001b[0m \u001b[38;5;28;01mreturn\u001b[39;00m _dot_general_shape_computation(lhs\u001b[38;5;241m.\u001b[39mshape, rhs\u001b[38;5;241m.\u001b[39mshape, dimension_numbers)\n",
      "\u001b[1;31mTypeError\u001b[0m: dot_general requires contracting dimensions to have the same shape, got (13,) and (106,)."
     ]
    }
   ],
   "source": [
    "\n",
    "\n",
    "def fit_knn(xtrain, ytrain, xtest, ytest, dist_f, k = 5):\n",
    "    \n",
    "    preds = np.zeros(len(xtest))\n",
    "    test_samples = {}\n",
    "    \n",
    "    for test_inx, test_sample in enumerate(xtest):\n",
    "        \n",
    "        test_samples[test_inx] = np.zeros(len(xtrain))\n",
    "        \n",
    "        min_dist = float('inf')\n",
    "                \n",
    "        for train_inx, train_sample in enumerate(xtrain):\n",
    "            \n",
    "            test_samples[test_inx][train_inx] = dist_f(test_sample, train_sample)\n",
    "\n",
    "        closest_k = ytrain[ np.argsort(test_samples[test_inx])[0:k]]\n",
    "        preds[test_inx] = np.argmax(np.bincount(closest_k.astype(int)))\n",
    "   \n",
    "    return preds#, test_samples\n",
    "\n",
    "\n",
    "class myKNN():  \n",
    "    def __init__(self, k, metric) -> None:\n",
    "        self.k_neighbors = k\n",
    "        self.metric = metric\n",
    "\n",
    "    def fit(self, x_train, y_train):\n",
    "        \n",
    "        self.X = x_train\n",
    "        self.y = y_train\n",
    "\n",
    "        print(self.X.shape)\n",
    "\n",
    "        return self\n",
    "    \n",
    "\n",
    "    def generate_dist(self, x_test):\n",
    "        print(x_test.shape)\n",
    "        return self.metric(self.X, x_test)\n",
    "    \n",
    "    \n",
    "    # def predict(self, x_test, y_train):\n",
    "\n",
    "    #     dist_matrix = jnp.zeros((1,20))#(len(x_test), len(self.X)))\n",
    "\n",
    "    #     print(dist_matrix.shape,'\\n', dist_matrix)\n",
    "\n",
    "    #     dist_matrix = dist_matrix.at[:,:2].set(3)\n",
    "    #     print(dist_matrix.shape,'\\n', dist_matrix)\n",
    "\n",
    "\n",
    "# knn_test.predict(jx_test, jy_test)\n",
    "knn_test = myKNN(5, euclidean_distance)\n",
    "knn_test.fit(jx_train, jy_train)\n",
    "knn_test.generate_dist(jx_test)\n",
    "\n",
    "\n"
   ]
  }
 ],
 "metadata": {
  "kernelspec": {
   "display_name": "Python 3",
   "language": "python",
   "name": "python3"
  },
  "language_info": {
   "codemirror_mode": {
    "name": "ipython",
    "version": 3
   },
   "file_extension": ".py",
   "mimetype": "text/x-python",
   "name": "python",
   "nbconvert_exporter": "python",
   "pygments_lexer": "ipython3",
   "version": "3.10.5"
  }
 },
 "nbformat": 4,
 "nbformat_minor": 2
}
